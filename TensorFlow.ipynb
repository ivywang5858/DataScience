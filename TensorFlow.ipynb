{
 "cells": [
  {
   "cell_type": "code",
   "execution_count": 2,
   "id": "237ec710-212b-4220-980d-4ecd483418eb",
   "metadata": {},
   "outputs": [],
   "source": [
    "import tensorflow as tf\n",
    "import numpy as np\n",
    "import matplotlib.pyplot as plt\n",
    "import os\n"
   ]
  },
  {
   "cell_type": "code",
   "execution_count": 3,
   "id": "f901b4d9-e521-4ebb-94b6-a12753486e7b",
   "metadata": {},
   "outputs": [],
   "source": [
    "# f(x,z) = 2x - 3z + 5 + <small noise>\n",
    "observations = 1000\n",
    "xs = np.random.uniform(low=-10, high=10, size=(observations,1))\n",
    "zs = np.random.uniform(-10, 10, (observations,1))\n",
    "# inputs\n",
    "generated_inputs = np.column_stack((xs,zs))\n",
    "noise = np.random.uniform(-1, 1, (observations,1))\n",
    "generated_targets = 2*xs - 3*zs + 5 + noise\n",
    "\n",
    "# save into an npz file called \"TF_intro\"\n",
    "np.savez(os.getcwd()+'/Data/TF_intro', inputs=generated_inputs, targets=generated_targets)"
   ]
  },
  {
   "cell_type": "code",
   "execution_count": 4,
   "id": "a50dd8e7-7e7a-4781-8206-d54c60ba8abc",
   "metadata": {},
   "outputs": [],
   "source": [
    "# Load the training data from the NPZ\n",
    "training_data = np.load('TF_intro.npz')"
   ]
  },
  {
   "cell_type": "code",
   "execution_count": 8,
   "id": "1ec9486f-54cb-4205-bff2-e8a6523f17a7",
   "metadata": {},
   "outputs": [
    {
     "name": "stdout",
     "output_type": "stream",
     "text": [
      "Epoch 1/100\n",
      "32/32 - 0s - 15ms/step - loss: 10.8672\n",
      "Epoch 2/100\n",
      "32/32 - 0s - 1ms/step - loss: 4.1969\n",
      "Epoch 3/100\n",
      "32/32 - 0s - 1ms/step - loss: 3.4165\n",
      "Epoch 4/100\n",
      "32/32 - 0s - 1ms/step - loss: 2.7964\n",
      "Epoch 5/100\n",
      "32/32 - 0s - 1ms/step - loss: 2.1860\n",
      "Epoch 6/100\n",
      "32/32 - 0s - 1ms/step - loss: 1.5723\n",
      "Epoch 7/100\n",
      "32/32 - 0s - 1ms/step - loss: 1.0123\n",
      "Epoch 8/100\n",
      "32/32 - 0s - 1ms/step - loss: 0.5667\n",
      "Epoch 9/100\n",
      "32/32 - 0s - 1ms/step - loss: 0.3315\n",
      "Epoch 10/100\n",
      "32/32 - 0s - 1ms/step - loss: 0.2261\n",
      "Epoch 11/100\n",
      "32/32 - 0s - 1ms/step - loss: 0.1904\n",
      "Epoch 12/100\n",
      "32/32 - 0s - 1ms/step - loss: 0.1792\n",
      "Epoch 13/100\n",
      "32/32 - 0s - 1ms/step - loss: 0.1753\n",
      "Epoch 14/100\n",
      "32/32 - 0s - 2ms/step - loss: 0.1804\n",
      "Epoch 15/100\n",
      "32/32 - 0s - 1ms/step - loss: 0.1778\n",
      "Epoch 16/100\n",
      "32/32 - 0s - 1ms/step - loss: 0.1749\n",
      "Epoch 17/100\n",
      "32/32 - 0s - 1ms/step - loss: 0.1779\n",
      "Epoch 18/100\n",
      "32/32 - 0s - 1ms/step - loss: 0.1768\n",
      "Epoch 19/100\n",
      "32/32 - 0s - 1ms/step - loss: 0.1737\n",
      "Epoch 20/100\n",
      "32/32 - 0s - 1ms/step - loss: 0.1757\n",
      "Epoch 21/100\n",
      "32/32 - 0s - 1ms/step - loss: 0.1758\n",
      "Epoch 22/100\n",
      "32/32 - 0s - 1ms/step - loss: 0.1738\n",
      "Epoch 23/100\n",
      "32/32 - 0s - 1ms/step - loss: 0.1794\n",
      "Epoch 24/100\n",
      "32/32 - 0s - 1ms/step - loss: 0.1767\n",
      "Epoch 25/100\n",
      "32/32 - 0s - 1ms/step - loss: 0.1774\n",
      "Epoch 26/100\n",
      "32/32 - 0s - 1ms/step - loss: 0.1792\n",
      "Epoch 27/100\n",
      "32/32 - 0s - 1ms/step - loss: 0.1769\n",
      "Epoch 28/100\n",
      "32/32 - 0s - 1ms/step - loss: 0.1796\n",
      "Epoch 29/100\n",
      "32/32 - 0s - 1ms/step - loss: 0.1762\n",
      "Epoch 30/100\n",
      "32/32 - 0s - 1ms/step - loss: 0.1774\n",
      "Epoch 31/100\n",
      "32/32 - 0s - 1ms/step - loss: 0.1760\n",
      "Epoch 32/100\n",
      "32/32 - 0s - 1ms/step - loss: 0.1765\n",
      "Epoch 33/100\n",
      "32/32 - 0s - 2ms/step - loss: 0.1766\n",
      "Epoch 34/100\n",
      "32/32 - 0s - 1ms/step - loss: 0.1751\n",
      "Epoch 35/100\n",
      "32/32 - 0s - 1ms/step - loss: 0.1746\n",
      "Epoch 36/100\n",
      "32/32 - 0s - 1ms/step - loss: 0.1791\n",
      "Epoch 37/100\n",
      "32/32 - 0s - 1ms/step - loss: 0.1753\n",
      "Epoch 38/100\n",
      "32/32 - 0s - 1ms/step - loss: 0.1761\n",
      "Epoch 39/100\n",
      "32/32 - 0s - 1ms/step - loss: 0.1737\n",
      "Epoch 40/100\n",
      "32/32 - 0s - 1ms/step - loss: 0.1780\n",
      "Epoch 41/100\n",
      "32/32 - 0s - 1ms/step - loss: 0.1761\n",
      "Epoch 42/100\n",
      "32/32 - 0s - 1ms/step - loss: 0.1755\n",
      "Epoch 43/100\n",
      "32/32 - 0s - 1ms/step - loss: 0.1801\n",
      "Epoch 44/100\n",
      "32/32 - 0s - 1ms/step - loss: 0.1771\n",
      "Epoch 45/100\n",
      "32/32 - 0s - 2ms/step - loss: 0.1751\n",
      "Epoch 46/100\n",
      "32/32 - 0s - 1ms/step - loss: 0.1751\n",
      "Epoch 47/100\n",
      "32/32 - 0s - 1ms/step - loss: 0.1739\n",
      "Epoch 48/100\n",
      "32/32 - 0s - 1ms/step - loss: 0.1766\n",
      "Epoch 49/100\n",
      "32/32 - 0s - 1ms/step - loss: 0.1771\n",
      "Epoch 50/100\n",
      "32/32 - 0s - 1ms/step - loss: 0.1771\n",
      "Epoch 51/100\n",
      "32/32 - 0s - 1ms/step - loss: 0.1758\n",
      "Epoch 52/100\n",
      "32/32 - 0s - 1ms/step - loss: 0.1768\n",
      "Epoch 53/100\n",
      "32/32 - 0s - 1ms/step - loss: 0.1764\n",
      "Epoch 54/100\n",
      "32/32 - 0s - 1ms/step - loss: 0.1746\n",
      "Epoch 55/100\n",
      "32/32 - 0s - 1ms/step - loss: 0.1764\n",
      "Epoch 56/100\n",
      "32/32 - 0s - 1ms/step - loss: 0.1773\n",
      "Epoch 57/100\n",
      "32/32 - 0s - 1ms/step - loss: 0.1798\n",
      "Epoch 58/100\n",
      "32/32 - 0s - 1ms/step - loss: 0.1758\n",
      "Epoch 59/100\n",
      "32/32 - 0s - 1ms/step - loss: 0.1778\n",
      "Epoch 60/100\n",
      "32/32 - 0s - 1ms/step - loss: 0.1799\n",
      "Epoch 61/100\n",
      "32/32 - 0s - 2ms/step - loss: 0.1773\n",
      "Epoch 62/100\n",
      "32/32 - 0s - 1ms/step - loss: 0.1767\n",
      "Epoch 63/100\n",
      "32/32 - 0s - 1ms/step - loss: 0.1770\n",
      "Epoch 64/100\n",
      "32/32 - 0s - 1ms/step - loss: 0.1791\n",
      "Epoch 65/100\n",
      "32/32 - 0s - 1ms/step - loss: 0.1777\n",
      "Epoch 66/100\n",
      "32/32 - 0s - 1ms/step - loss: 0.1770\n",
      "Epoch 67/100\n",
      "32/32 - 0s - 1ms/step - loss: 0.1759\n",
      "Epoch 68/100\n",
      "32/32 - 0s - 1ms/step - loss: 0.1764\n",
      "Epoch 69/100\n",
      "32/32 - 0s - 1ms/step - loss: 0.1779\n",
      "Epoch 70/100\n",
      "32/32 - 0s - 1ms/step - loss: 0.1798\n",
      "Epoch 71/100\n",
      "32/32 - 0s - 1ms/step - loss: 0.1738\n",
      "Epoch 72/100\n",
      "32/32 - 0s - 1ms/step - loss: 0.1760\n",
      "Epoch 73/100\n",
      "32/32 - 0s - 1ms/step - loss: 0.1798\n",
      "Epoch 74/100\n",
      "32/32 - 0s - 1ms/step - loss: 0.1727\n",
      "Epoch 75/100\n",
      "32/32 - 0s - 1ms/step - loss: 0.1765\n",
      "Epoch 76/100\n",
      "32/32 - 0s - 1ms/step - loss: 0.1756\n",
      "Epoch 77/100\n",
      "32/32 - 0s - 1ms/step - loss: 0.1757\n",
      "Epoch 78/100\n",
      "32/32 - 0s - 2ms/step - loss: 0.1743\n",
      "Epoch 79/100\n",
      "32/32 - 0s - 2ms/step - loss: 0.1762\n",
      "Epoch 80/100\n",
      "32/32 - 0s - 1ms/step - loss: 0.1748\n",
      "Epoch 81/100\n",
      "32/32 - 0s - 1ms/step - loss: 0.1751\n",
      "Epoch 82/100\n",
      "32/32 - 0s - 1ms/step - loss: 0.1754\n",
      "Epoch 83/100\n",
      "32/32 - 0s - 1ms/step - loss: 0.1767\n",
      "Epoch 84/100\n",
      "32/32 - 0s - 1ms/step - loss: 0.1797\n",
      "Epoch 85/100\n",
      "32/32 - 0s - 1ms/step - loss: 0.1741\n",
      "Epoch 86/100\n",
      "32/32 - 0s - 1ms/step - loss: 0.1776\n",
      "Epoch 87/100\n",
      "32/32 - 0s - 1ms/step - loss: 0.1773\n",
      "Epoch 88/100\n",
      "32/32 - 0s - 1ms/step - loss: 0.1754\n",
      "Epoch 89/100\n",
      "32/32 - 0s - 1ms/step - loss: 0.1794\n",
      "Epoch 90/100\n",
      "32/32 - 0s - 1ms/step - loss: 0.1775\n",
      "Epoch 91/100\n",
      "32/32 - 0s - 1ms/step - loss: 0.1764\n",
      "Epoch 92/100\n",
      "32/32 - 0s - 1ms/step - loss: 0.1742\n",
      "Epoch 93/100\n",
      "32/32 - 0s - 2ms/step - loss: 0.1769\n",
      "Epoch 94/100\n",
      "32/32 - 0s - 2ms/step - loss: 0.1710\n",
      "Epoch 95/100\n",
      "32/32 - 0s - 1ms/step - loss: 0.1764\n",
      "Epoch 96/100\n",
      "32/32 - 0s - 1ms/step - loss: 0.1757\n",
      "Epoch 97/100\n",
      "32/32 - 0s - 1ms/step - loss: 0.1776\n",
      "Epoch 98/100\n",
      "32/32 - 0s - 1ms/step - loss: 0.1768\n",
      "Epoch 99/100\n",
      "32/32 - 0s - 1ms/step - loss: 0.1767\n",
      "Epoch 100/100\n",
      "32/32 - 0s - 1ms/step - loss: 0.1770\n"
     ]
    },
    {
     "data": {
      "text/plain": [
       "<keras.src.callbacks.history.History at 0x293fee500>"
      ]
     },
     "execution_count": 8,
     "metadata": {},
     "output_type": "execute_result"
    }
   ],
   "source": [
    "input_size = 2\n",
    "output_size = 1\n",
    "model = tf.keras.Sequential([\n",
    "                            # Each 'layer' is listed here\n",
    "                            # The method 'Dense' indicates, our mathematical operation to be (xw + b)\n",
    "                            tf.keras.layers.Dense(output_size,\n",
    "                                                 kernel_initializer=tf.random_uniform_initializer(minval=-0.1, maxval=0.1),\n",
    "                                                 bias_initializer=tf.random_uniform_initializer(minval=-0.1, maxval=0.1)\n",
    "                                                 )\n",
    "                            ])\n",
    "\n",
    "# We can also define a custom optimizer, where we can specify the learning rate\n",
    "custom_optimizer = tf.keras.optimizers.SGD(learning_rate=0.02)\n",
    "model.compile(optimizer=custom_optimizer, loss='huber')\n",
    "model.fit(training_data['inputs'], training_data['targets'], epochs=100, verbose=2)"
   ]
  },
  {
   "cell_type": "code",
   "execution_count": 9,
   "id": "baf19eae-bfa2-412a-b7f5-cb5ab841f029",
   "metadata": {},
   "outputs": [
    {
     "data": {
      "text/plain": [
       "[array([[ 1.9375527],\n",
       "        [-2.995496 ]], dtype=float32),\n",
       " array([4.9831223], dtype=float32)]"
      ]
     },
     "execution_count": 9,
     "metadata": {},
     "output_type": "execute_result"
    }
   ],
   "source": [
    "# Extracting the weights and biases is achieved quite easily\n",
    "model.layers[0].get_weights()"
   ]
  },
  {
   "cell_type": "code",
   "execution_count": 10,
   "id": "b15e6782-5d41-48bd-802e-f7d5a852b971",
   "metadata": {},
   "outputs": [
    {
     "name": "stdout",
     "output_type": "stream",
     "text": [
      "[[ 1.9375527]\n",
      " [-2.995496 ]]\n"
     ]
    }
   ],
   "source": [
    "# We can save the weights and biases in separate variables for easier examination\n",
    "# Note that there can be hundreds or thousands of them!\n",
    "weights = model.layers[0].get_weights()[0]\n",
    "print(weights)"
   ]
  },
  {
   "cell_type": "code",
   "execution_count": 11,
   "id": "189f2972-18c6-4cd3-a579-906edc7513ec",
   "metadata": {},
   "outputs": [
    {
     "data": {
      "text/plain": [
       "array([4.9831223], dtype=float32)"
      ]
     },
     "execution_count": 11,
     "metadata": {},
     "output_type": "execute_result"
    }
   ],
   "source": [
    "# We can save the weights and biases in separate variables for easier examination\n",
    "# Note that there can be hundreds or thousands of them!\n",
    "bias = model.layers[0].get_weights()[1]\n",
    "bias"
   ]
  },
  {
   "cell_type": "code",
   "execution_count": 12,
   "id": "645eb4c8-32d9-404e-a570-c69b26828fe2",
   "metadata": {},
   "outputs": [
    {
     "data": {
      "image/png": "[encoded data removed]",
      "text/plain": [
       "<Figure size 640x480 with 1 Axes>"
      ]
     },
     "metadata": {},
     "output_type": "display_data"
    }
   ],
   "source": [
    "model.predict_on_batch(training_data['inputs']).round(1)\n",
    "training_data['targets'].round(1)\n",
    "plt.plot(np.squeeze(model.predict_on_batch(training_data['inputs'])), np.squeeze(training_data['targets']))\n",
    "plt.xlabel('outputs')\n",
    "plt.ylabel('targets')\n",
    "plt.show()"
   ]
  }
 ],
 "metadata": {
  "kernelspec": {
   "display_name": "Python 3 (ipykernel)",
   "language": "python",
   "name": "python3"
  },
  "language_info": {
   "codemirror_mode": {
    "name": "ipython",
    "version": 3
   },
   "file_extension": ".py",
   "mimetype": "text/x-python",
   "name": "python",
   "nbconvert_exporter": "python",
   "pygments_lexer": "ipython3",
   "version": "3.10.6"
  }
 },
 "nbformat": 4,
 "nbformat_minor": 5
}
