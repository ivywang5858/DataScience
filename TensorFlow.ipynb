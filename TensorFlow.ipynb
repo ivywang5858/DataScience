{
 "cells": [
  {
   "cell_type": "code",
   "execution_count": 17,
   "id": "237ec710-212b-4220-980d-4ecd483418eb",
   "metadata": {},
   "outputs": [
    {
     "name": "stdout",
     "output_type": "stream",
     "text": [
      "/Users/ivywang/PycharmProjects/Udemy/DataScience\n"
     ]
    }
   ],
   "source": [
    "import tensorflow as tf\n",
    "import numpy as np\n",
    "import matplotlib.pyplot as plt\n",
    "import os"
   ]
  },
  {
   "cell_type": "code",
   "execution_count": 18,
   "id": "f901b4d9-e521-4ebb-94b6-a12753486e7b",
   "metadata": {},
   "outputs": [],
   "source": [
    "# f(x,z) = 2x - 3z + 5 + <small noise>\n",
    "observations = 1000\n",
    "xs = np.random.uniform(low=-10, high=10, size=(observations,1))\n",
    "zs = np.random.uniform(-10, 10, (observations,1))\n",
    "# inputs\n",
    "generated_inputs = np.column_stack((xs,zs))\n",
    "noise = np.random.uniform(-1, 1, (observations,1))\n",
    "generated_targets = 2*xs - 3*zs + 5 + noise\n",
    "\n",
    "# save into an npz file called \"TF_intro\"\n",
    "np.savez(os.getcwd()+'/TF_intro', inputs=generated_inputs, targets=generated_targets)"
   ]
  },
  {
   "cell_type": "code",
   "execution_count": 5,
   "id": "a50dd8e7-7e7a-4781-8206-d54c60ba8abc",
   "metadata": {},
   "outputs": [
    {
     "name": "stdout",
     "output_type": "stream",
     "text": [
      "[[ 0.34329385 -5.45126262]\n",
      " [-0.28215335  5.83083662]\n",
      " [ 8.64936813 -8.22354007]\n",
      " ...\n",
      " [ 0.16561975 -5.33739189]\n",
      " [ 2.90077833  0.69545673]\n",
      " [ 9.05271301 -8.05068739]]\n"
     ]
    }
   ],
   "source": [
    "# Load the training data from the NPZ\n",
    "training_data = np.load('TF_intro.npz')"
   ]
  },
  {
   "cell_type": "code",
   "execution_count": 6,
   "id": "1ec9486f-54cb-4205-bff2-e8a6523f17a7",
   "metadata": {},
   "outputs": [
    {
     "name": "stderr",
     "output_type": "stream",
     "text": [
      "WARNING:absl:At this time, the v2.11+ optimizer `tf.keras.optimizers.SGD` runs slowly on M1/M2 Macs, please use the legacy Keras optimizer instead, located at `tf.keras.optimizers.legacy.SGD`.\n"
     ]
    },
    {
     "name": "stdout",
     "output_type": "stream",
     "text": [
      "Epoch 1/100\n",
      "32/32 - 0s - loss: 11.1806 - 256ms/epoch - 8ms/step\n",
      "Epoch 2/100\n",
      "32/32 - 0s - loss: 4.2445 - 20ms/epoch - 630us/step\n",
      "Epoch 3/100\n",
      "32/32 - 0s - loss: 3.5099 - 38ms/epoch - 1ms/step\n",
      "Epoch 4/100\n",
      "32/32 - 0s - loss: 2.8932 - 73ms/epoch - 2ms/step\n",
      "Epoch 5/100\n",
      "32/32 - 0s - loss: 2.2790 - 75ms/epoch - 2ms/step\n",
      "Epoch 6/100\n",
      "32/32 - 0s - loss: 1.6816 - 31ms/epoch - 967us/step\n",
      "Epoch 7/100\n",
      "32/32 - 0s - loss: 1.0781 - 33ms/epoch - 1ms/step\n",
      "Epoch 8/100\n",
      "32/32 - 0s - loss: 0.6100 - 50ms/epoch - 2ms/step\n",
      "Epoch 9/100\n",
      "32/32 - 0s - loss: 0.3458 - 44ms/epoch - 1ms/step\n",
      "Epoch 10/100\n",
      "32/32 - 0s - loss: 0.2336 - 54ms/epoch - 2ms/step\n",
      "Epoch 11/100\n",
      "32/32 - 0s - loss: 0.1901 - 71ms/epoch - 2ms/step\n",
      "Epoch 12/100\n",
      "32/32 - 0s - loss: 0.1736 - 55ms/epoch - 2ms/step\n",
      "Epoch 13/100\n",
      "32/32 - 0s - loss: 0.1708 - 39ms/epoch - 1ms/step\n",
      "Epoch 14/100\n",
      "32/32 - 0s - loss: 0.1712 - 44ms/epoch - 1ms/step\n",
      "Epoch 15/100\n",
      "32/32 - 0s - loss: 0.1704 - 33ms/epoch - 1ms/step\n",
      "Epoch 16/100\n",
      "32/32 - 0s - loss: 0.1690 - 36ms/epoch - 1ms/step\n",
      "Epoch 17/100\n",
      "32/32 - 0s - loss: 0.1687 - 28ms/epoch - 869us/step\n",
      "Epoch 18/100\n",
      "32/32 - 0s - loss: 0.1696 - 31ms/epoch - 968us/step\n",
      "Epoch 19/100\n",
      "32/32 - 0s - loss: 0.1678 - 30ms/epoch - 952us/step\n",
      "Epoch 20/100\n",
      "32/32 - 0s - loss: 0.1703 - 30ms/epoch - 924us/step\n",
      "Epoch 21/100\n",
      "32/32 - 0s - loss: 0.1719 - 33ms/epoch - 1ms/step\n",
      "Epoch 22/100\n",
      "32/32 - 0s - loss: 0.1709 - 30ms/epoch - 938us/step\n",
      "Epoch 23/100\n",
      "32/32 - 0s - loss: 0.1667 - 32ms/epoch - 1ms/step\n",
      "Epoch 24/100\n",
      "32/32 - 0s - loss: 0.1669 - 32ms/epoch - 994us/step\n",
      "Epoch 25/100\n",
      "32/32 - 0s - loss: 0.1713 - 30ms/epoch - 945us/step\n",
      "Epoch 26/100\n",
      "32/32 - 0s - loss: 0.1693 - 29ms/epoch - 914us/step\n",
      "Epoch 27/100\n",
      "32/32 - 0s - loss: 0.1705 - 33ms/epoch - 1ms/step\n",
      "Epoch 28/100\n",
      "32/32 - 0s - loss: 0.1721 - 37ms/epoch - 1ms/step\n",
      "Epoch 29/100\n",
      "32/32 - 0s - loss: 0.1732 - 31ms/epoch - 964us/step\n",
      "Epoch 30/100\n",
      "32/32 - 0s - loss: 0.1690 - 31ms/epoch - 959us/step\n",
      "Epoch 31/100\n",
      "32/32 - 0s - loss: 0.1678 - 30ms/epoch - 940us/step\n",
      "Epoch 32/100\n",
      "32/32 - 0s - loss: 0.1684 - 33ms/epoch - 1ms/step\n",
      "Epoch 33/100\n",
      "32/32 - 0s - loss: 0.1674 - 36ms/epoch - 1ms/step\n",
      "Epoch 34/100\n",
      "32/32 - 0s - loss: 0.1679 - 40ms/epoch - 1ms/step\n",
      "Epoch 35/100\n",
      "32/32 - 0s - loss: 0.1696 - 33ms/epoch - 1ms/step\n",
      "Epoch 36/100\n",
      "32/32 - 0s - loss: 0.1727 - 30ms/epoch - 938us/step\n",
      "Epoch 37/100\n",
      "32/32 - 0s - loss: 0.1685 - 26ms/epoch - 819us/step\n",
      "Epoch 38/100\n",
      "32/32 - 0s - loss: 0.1714 - 28ms/epoch - 870us/step\n",
      "Epoch 39/100\n",
      "32/32 - 0s - loss: 0.1675 - 31ms/epoch - 981us/step\n",
      "Epoch 40/100\n",
      "32/32 - 0s - loss: 0.1691 - 29ms/epoch - 901us/step\n",
      "Epoch 41/100\n",
      "32/32 - 0s - loss: 0.1713 - 26ms/epoch - 802us/step\n",
      "Epoch 42/100\n",
      "32/32 - 0s - loss: 0.1701 - 26ms/epoch - 813us/step\n",
      "Epoch 43/100\n",
      "32/32 - 0s - loss: 0.1711 - 30ms/epoch - 922us/step\n",
      "Epoch 44/100\n",
      "32/32 - 0s - loss: 0.1714 - 25ms/epoch - 781us/step\n",
      "Epoch 45/100\n",
      "32/32 - 0s - loss: 0.1695 - 24ms/epoch - 764us/step\n",
      "Epoch 46/100\n",
      "32/32 - 0s - loss: 0.1673 - 33ms/epoch - 1ms/step\n",
      "Epoch 47/100\n",
      "32/32 - 0s - loss: 0.1715 - 32ms/epoch - 1ms/step\n",
      "Epoch 48/100\n",
      "32/32 - 0s - loss: 0.1691 - 32ms/epoch - 992us/step\n",
      "Epoch 49/100\n",
      "32/32 - 0s - loss: 0.1693 - 31ms/epoch - 967us/step\n",
      "Epoch 50/100\n",
      "32/32 - 0s - loss: 0.1665 - 40ms/epoch - 1ms/step\n",
      "Epoch 51/100\n",
      "32/32 - 0s - loss: 0.1701 - 84ms/epoch - 3ms/step\n",
      "Epoch 52/100\n",
      "32/32 - 0s - loss: 0.1715 - 101ms/epoch - 3ms/step\n",
      "Epoch 53/100\n",
      "32/32 - 0s - loss: 0.1679 - 35ms/epoch - 1ms/step\n",
      "Epoch 54/100\n",
      "32/32 - 0s - loss: 0.1697 - 34ms/epoch - 1ms/step\n",
      "Epoch 55/100\n",
      "32/32 - 0s - loss: 0.1703 - 30ms/epoch - 950us/step\n",
      "Epoch 56/100\n",
      "32/32 - 0s - loss: 0.1699 - 29ms/epoch - 898us/step\n",
      "Epoch 57/100\n",
      "32/32 - 0s - loss: 0.1693 - 28ms/epoch - 883us/step\n",
      "Epoch 58/100\n",
      "32/32 - 0s - loss: 0.1719 - 30ms/epoch - 925us/step\n",
      "Epoch 59/100\n",
      "32/32 - 0s - loss: 0.1707 - 30ms/epoch - 925us/step\n",
      "Epoch 60/100\n",
      "32/32 - 0s - loss: 0.1749 - 33ms/epoch - 1ms/step\n",
      "Epoch 61/100\n",
      "32/32 - 0s - loss: 0.1689 - 33ms/epoch - 1ms/step\n",
      "Epoch 62/100\n",
      "32/32 - 0s - loss: 0.1684 - 32ms/epoch - 1ms/step\n",
      "Epoch 63/100\n",
      "32/32 - 0s - loss: 0.1685 - 36ms/epoch - 1ms/step\n",
      "Epoch 64/100\n",
      "32/32 - 0s - loss: 0.1680 - 32ms/epoch - 988us/step\n",
      "Epoch 65/100\n",
      "32/32 - 0s - loss: 0.1675 - 31ms/epoch - 958us/step\n",
      "Epoch 66/100\n",
      "32/32 - 0s - loss: 0.1684 - 30ms/epoch - 927us/step\n",
      "Epoch 67/100\n",
      "32/32 - 0s - loss: 0.1724 - 33ms/epoch - 1ms/step\n",
      "Epoch 68/100\n",
      "32/32 - 0s - loss: 0.1713 - 30ms/epoch - 952us/step\n",
      "Epoch 69/100\n",
      "32/32 - 0s - loss: 0.1694 - 29ms/epoch - 920us/step\n",
      "Epoch 70/100\n",
      "32/32 - 0s - loss: 0.1704 - 35ms/epoch - 1ms/step\n",
      "Epoch 71/100\n",
      "32/32 - 0s - loss: 0.1708 - 30ms/epoch - 953us/step\n",
      "Epoch 72/100\n",
      "32/32 - 0s - loss: 0.1686 - 27ms/epoch - 835us/step\n",
      "Epoch 73/100\n",
      "32/32 - 0s - loss: 0.1672 - 29ms/epoch - 896us/step\n",
      "Epoch 74/100\n",
      "32/32 - 0s - loss: 0.1730 - 31ms/epoch - 978us/step\n",
      "Epoch 75/100\n",
      "32/32 - 0s - loss: 0.1720 - 30ms/epoch - 945us/step\n",
      "Epoch 76/100\n",
      "32/32 - 0s - loss: 0.1696 - 52ms/epoch - 2ms/step\n",
      "Epoch 77/100\n",
      "32/32 - 0s - loss: 0.1686 - 35ms/epoch - 1ms/step\n",
      "Epoch 78/100\n",
      "32/32 - 0s - loss: 0.1695 - 43ms/epoch - 1ms/step\n",
      "Epoch 79/100\n",
      "32/32 - 0s - loss: 0.1705 - 59ms/epoch - 2ms/step\n",
      "Epoch 80/100\n",
      "32/32 - 0s - loss: 0.1701 - 40ms/epoch - 1ms/step\n",
      "Epoch 81/100\n",
      "32/32 - 0s - loss: 0.1688 - 32ms/epoch - 1ms/step\n",
      "Epoch 82/100\n",
      "32/32 - 0s - loss: 0.1683 - 29ms/epoch - 904us/step\n",
      "Epoch 83/100\n",
      "32/32 - 0s - loss: 0.1719 - 28ms/epoch - 864us/step\n",
      "Epoch 84/100\n",
      "32/32 - 0s - loss: 0.1719 - 25ms/epoch - 781us/step\n",
      "Epoch 85/100\n",
      "32/32 - 0s - loss: 0.1683 - 25ms/epoch - 796us/step\n",
      "Epoch 86/100\n",
      "32/32 - 0s - loss: 0.1714 - 22ms/epoch - 691us/step\n",
      "Epoch 87/100\n",
      "32/32 - 0s - loss: 0.1699 - 22ms/epoch - 675us/step\n",
      "Epoch 88/100\n",
      "32/32 - 0s - loss: 0.1689 - 22ms/epoch - 690us/step\n",
      "Epoch 89/100\n",
      "32/32 - 0s - loss: 0.1676 - 22ms/epoch - 696us/step\n",
      "Epoch 90/100\n",
      "32/32 - 0s - loss: 0.1714 - 22ms/epoch - 696us/step\n",
      "Epoch 91/100\n",
      "32/32 - 0s - loss: 0.1693 - 21ms/epoch - 666us/step\n",
      "Epoch 92/100\n",
      "32/32 - 0s - loss: 0.1679 - 22ms/epoch - 675us/step\n",
      "Epoch 93/100\n",
      "32/32 - 0s - loss: 0.1691 - 19ms/epoch - 603us/step\n",
      "Epoch 94/100\n",
      "32/32 - 0s - loss: 0.1683 - 20ms/epoch - 620us/step\n",
      "Epoch 95/100\n",
      "32/32 - 0s - loss: 0.1700 - 21ms/epoch - 652us/step\n",
      "Epoch 96/100\n",
      "32/32 - 0s - loss: 0.1708 - 20ms/epoch - 611us/step\n",
      "Epoch 97/100\n",
      "32/32 - 0s - loss: 0.1712 - 21ms/epoch - 654us/step\n",
      "Epoch 98/100\n",
      "32/32 - 0s - loss: 0.1687 - 20ms/epoch - 635us/step\n",
      "Epoch 99/100\n",
      "32/32 - 0s - loss: 0.1681 - 22ms/epoch - 702us/step\n",
      "Epoch 100/100\n",
      "32/32 - 0s - loss: 0.1667 - 22ms/epoch - 674us/step\n"
     ]
    },
    {
     "data": {
      "text/plain": [
       "<keras.src.callbacks.History at 0x288b99090>"
      ]
     },
     "execution_count": 6,
     "metadata": {},
     "output_type": "execute_result"
    }
   ],
   "source": [
    "input_size = 2\n",
    "output_size = 1\n",
    "model = tf.keras.Sequential([\n",
    "                            # Each 'layer' is listed here\n",
    "                            # The method 'Dense' indicates, our mathematical operation to be (xw + b)\n",
    "                            tf.keras.layers.Dense(output_size,\n",
    "                                                 kernel_initializer=tf.random_uniform_initializer(minval=-0.1, maxval=0.1),\n",
    "                                                 bias_initializer=tf.random_uniform_initializer(minval=-0.1, maxval=0.1)\n",
    "                                                 )\n",
    "                            ])\n",
    "\n",
    "# We can also define a custom optimizer, where we can specify the learning rate\n",
    "custom_optimizer = tf.keras.optimizers.SGD(learning_rate=0.02)\n",
    "model.compile(optimizer=custom_optimizer, loss='huber_loss')\n",
    "model.fit(training_data['inputs'], training_data['targets'], epochs=100, verbose=2)"
   ]
  },
  {
   "cell_type": "code",
   "execution_count": 7,
   "id": "baf19eae-bfa2-412a-b7f5-cb5ab841f029",
   "metadata": {},
   "outputs": [
    {
     "data": {
      "text/plain": [
       "[array([[ 1.9872409],\n",
       "        [-2.9777038]], dtype=float32),\n",
       " array([4.989047], dtype=float32)]"
      ]
     },
     "execution_count": 7,
     "metadata": {},
     "output_type": "execute_result"
    }
   ],
   "source": [
    "# Extracting the weights and biases is achieved quite easily\n",
    "model.layers[0].get_weights()"
   ]
  },
  {
   "cell_type": "code",
   "execution_count": 8,
   "id": "b15e6782-5d41-48bd-802e-f7d5a852b971",
   "metadata": {},
   "outputs": [
    {
     "data": {
      "text/plain": [
       "array([[ 1.9872409],\n",
       "       [-2.9777038]], dtype=float32)"
      ]
     },
     "execution_count": 8,
     "metadata": {},
     "output_type": "execute_result"
    }
   ],
   "source": [
    "# We can save the weights and biases in separate variables for easier examination\n",
    "# Note that there can be hundreds or thousands of them!\n",
    "weights = model.layers[0].get_weights()[0]\n",
    "weights"
   ]
  },
  {
   "cell_type": "code",
   "execution_count": 9,
   "id": "189f2972-18c6-4cd3-a579-906edc7513ec",
   "metadata": {},
   "outputs": [
    {
     "data": {
      "text/plain": [
       "array([4.989047], dtype=float32)"
      ]
     },
     "execution_count": 9,
     "metadata": {},
     "output_type": "execute_result"
    }
   ],
   "source": [
    "# We can save the weights and biases in separate variables for easier examination\n",
    "# Note that there can be hundreds or thousands of them!\n",
    "bias = model.layers[0].get_weights()[1]\n",
    "bias"
   ]
  },
  {
   "cell_type": "code",
   "execution_count": 10,
   "id": "645eb4c8-32d9-404e-a570-c69b26828fe2",
   "metadata": {},
   "outputs": [
    {
     "data": {
      "image/png": "[encoded data removed]",
      "text/plain": [
       "<Figure size 640x480 with 1 Axes>"
      ]
     },
     "metadata": {},
     "output_type": "display_data"
    }
   ],
   "source": [
    "model.predict_on_batch(training_data['inputs']).round(1)\n",
    "training_data['targets'].round(1)\n",
    "plt.plot(np.squeeze(model.predict_on_batch(training_data['inputs'])), np.squeeze(training_data['targets']))\n",
    "plt.xlabel('outputs')\n",
    "plt.ylabel('targets')\n",
    "plt.show()"
   ]
  }
 ],
 "metadata": {
  "kernelspec": {
   "display_name": "Python 3 (ipykernel)",
   "language": "python",
   "name": "python3"
  },
  "language_info": {
   "codemirror_mode": {
    "name": "ipython",
    "version": 3
   },
   "file_extension": ".py",
   "mimetype": "text/x-python",
   "name": "python",
   "nbconvert_exporter": "python",
   "pygments_lexer": "ipython3",
   "version": "3.10.6"
  }
 },
 "nbformat": 4,
 "nbformat_minor": 5
}
